{
 "cells": [
  {
   "cell_type": "markdown",
   "metadata": {},
   "source": [
    "# TV Script Generation\n",
    "In this project, you'll generate your own [Simpsons](https://en.wikipedia.org/wiki/The_Simpsons) TV scripts using RNNs.  You'll be using part of the [Simpsons dataset](https://www.kaggle.com/wcukierski/the-simpsons-by-the-data) of scripts from 27 seasons.  The Neural Network you'll build will generate a new TV script for a scene at [Moe's Tavern](https://simpsonswiki.com/wiki/Moe's_Tavern).\n",
    "## Get the Data\n",
    "The data is already provided for you.  You'll be using a subset of the original dataset.  It consists of only the scenes in Moe's Tavern.  This doesn't include other versions of the tavern, like \"Moe's Cavern\", \"Flaming Moe's\", \"Uncle Moe's Family Feed-Bag\", etc.."
   ]
  },
  {
   "cell_type": "code",
   "execution_count": 2,
   "metadata": {},
   "outputs": [],
   "source": [
    "import helper\n",
    "data_dir = './data/simpsons/moes_tavern_lines.txt'\n",
    "text = helper.load_data(data_dir)\n",
    "text = text[81:]"
   ]
  },
  {
   "cell_type": "markdown",
   "metadata": {},
   "source": [
    "## Explore the Data\n",
    "Play around with `view_sentence_range` to view different parts of the data."
   ]
  },
  {
   "cell_type": "code",
   "execution_count": 3,
   "metadata": {},
   "outputs": [
    {
     "name": "stdout",
     "output_type": "stream",
     "text": [
      "Dataset Stats\n",
      "Roughly the number of unique words: 11492\n",
      "Number of scenes: 262\n",
      "Average number of sentences in each scene: 15.248091603053435\n",
      "Number of lines: 4257\n",
      "Average number of words in each line: 11.50434578341555\n",
      "\n",
      "The sentences 0 to 10:\n",
      "Moe_Szyslak: (INTO PHONE) Moe's Tavern. Where the elite meet to drink.\n",
      "Bart_Simpson: Eh, yeah, hello, is Mike there? Last name, Rotch.\n",
      "Moe_Szyslak: (INTO PHONE) Hold on, I'll check. (TO BARFLIES) Mike Rotch. Mike Rotch. Hey, has anybody seen Mike Rotch, lately?\n",
      "Moe_Szyslak: (INTO PHONE) Listen you little puke. One of these days I'm gonna catch you, and I'm gonna carve my name on your back with an ice pick.\n",
      "Moe_Szyslak: What's the matter Homer? You're not your normal effervescent self.\n",
      "Homer_Simpson: I got my problems, Moe. Give me another one.\n",
      "Moe_Szyslak: Homer, hey, you should not drink to forget your problems.\n",
      "Barney_Gumble: Yeah, you should only drink to enhance your social skills.\n",
      "\n",
      "\n"
     ]
    }
   ],
   "source": [
    "view_sentence_range = (0, 10)\n",
    "import numpy as np\n",
    "print('Dataset Stats')\n",
    "print('Roughly the number of unique words: {}'.format(len({word: None for word in text.split()})))\n",
    "scenes = text.split('\\n\\n')\n",
    "print('Number of scenes: {}'.format(len(scenes)))\n",
    "sentence_count_scene = [scene.count('\\n') for scene in scenes]\n",
    "print('Average number of sentences in each scene: {}'.format(np.average(sentence_count_scene)))\n",
    "sentences = [sentence for scene in scenes for sentence in scene.split('\\n')]\n",
    "print('Number of lines: {}'.format(len(sentences)))\n",
    "word_count_sentence = [len(sentence.split()) for sentence in sentences]\n",
    "print('Average number of words in each line: {}'.format(np.average(word_count_sentence)))\n",
    "print()\n",
    "print('The sentences {} to {}:'.format(*view_sentence_range))\n",
    "print('\\n'.join(text.split('\\n')[view_sentence_range[0]:view_sentence_range[1]]))"
   ]
  },
  {
   "cell_type": "markdown",
   "metadata": {},
   "source": [
    "## Implement Preprocessing Functions\n",
    "The first thing to do to any dataset is preprocessing.  Implement the following preprocessing functions below:\n",
    "- Lookup Table\n",
    "- Tokenize Punctuation\n",
    "\n",
    "### Lookup Table\n",
    "To create a word embedding, you first need to transform the words to ids.  In this function, create two dictionaries:\n",
    "- Dictionary to go from the words to an id, we'll call `vocab_to_int`\n",
    "- Dictionary to go from the id to word, we'll call `int_to_vocab`\n",
    "\n",
    "Return these dictionaries in the following tuple `(vocab_to_int, int_to_vocab)`"
   ]
  },
  {
   "cell_type": "code",
   "execution_count": 4,
   "metadata": {},
   "outputs": [
    {
     "name": "stdout",
     "output_type": "stream",
     "text": [
      "Tests Passed\n"
     ]
    }
   ],
   "source": [
    "import numpy as np\n",
    "import problem_unittests as tests\n",
    "import re\n",
    "\n",
    "def create_lookup_tables(text):\n",
    "    unique_words = []\n",
    "    for i in text:\n",
    "        if i not in unique_words:\n",
    "            unique_words.append(i)\n",
    "    int_to_vocab = dict(enumerate(unique_words))\n",
    "    vocab_to_int = dict((int_to_vocab[i], i) for i in int_to_vocab)\n",
    "    return vocab_to_int, int_to_vocab\n",
    "\n",
    "tests.test_create_lookup_tables(create_lookup_tables)"
   ]
  },
  {
   "cell_type": "markdown",
   "metadata": {},
   "source": [
    "### Tokenize Punctuation\n",
    "We'll be splitting the script into a word array using spaces as delimiters.  However, punctuations like periods and exclamation marks make it hard for the neural network to distinguish between the word \"bye\" and \"bye!\".\n",
    "\n",
    "Implement the function `token_lookup` to return a dict that will be used to tokenize symbols like \"!\" into \"||Exclamation_Mark||\".  Create a dictionary for the following symbols where the symbol is the key and value is the token:\n",
    "- Period ( . )\n",
    "- Comma ( , )\n",
    "- Quotation Mark ( \" )\n",
    "- Semicolon ( ; )\n",
    "- Exclamation mark ( ! )\n",
    "- Question mark ( ? )\n",
    "- Left Parentheses ( ( )\n",
    "- Right Parentheses ( ) )\n",
    "- Dash ( -- )\n",
    "- Return ( \\n )\n",
    "\n",
    "This dictionary will be used to token the symbols and add the delimiter (space) around it.  This separates the symbols as it's own word, making it easier for the neural network to predict on the next word. Make sure you don't use a token that could be confused as a word. Instead of using the token \"dash\", try using something like \"||dash||\"."
   ]
  },
  {
   "cell_type": "code",
   "execution_count": 5,
   "metadata": {},
   "outputs": [
    {
     "name": "stdout",
     "output_type": "stream",
     "text": [
      "Tests Passed\n"
     ]
    }
   ],
   "source": [
    "def token_lookup():\n",
    "    punctuation_dictionary = dict({\n",
    "        '.':'||Period||',\n",
    "        '(':'||Left_Parentheses||',\n",
    "        ')':'||Right_Parentheses||', \n",
    "        '\\n':'||Return||', \n",
    "        ';':'||Semicolon||', \n",
    "        ',':'||Comma||', \n",
    "        '--':'||Dash||', \n",
    "        '?':'||Question_Mark||', \n",
    "        '!':'||Exclamation_Mark||', \n",
    "        '\"':'||Quotation_Mark||'\n",
    "    })\n",
    "    return punctuation_dictionary\n",
    "\n",
    "tests.test_tokenize(token_lookup)"
   ]
  },
  {
   "cell_type": "markdown",
   "metadata": {},
   "source": [
    "## Preprocess all the data and save it\n",
    "Running the code cell below will preprocess all the data and save it to file."
   ]
  },
  {
   "cell_type": "code",
   "execution_count": 6,
   "metadata": {},
   "outputs": [],
   "source": [
    "# Preprocess Training, Validation, and Testing Data\n",
    "helper.preprocess_and_save_data(data_dir, token_lookup, create_lookup_tables)"
   ]
  },
  {
   "cell_type": "markdown",
   "metadata": {},
   "source": [
    "# Check Point\n",
    "This is your first checkpoint. If you ever decide to come back to this notebook or have to restart the notebook, you can start from here. The preprocessed data has been saved to disk."
   ]
  },
  {
   "cell_type": "code",
   "execution_count": 7,
   "metadata": {},
   "outputs": [],
   "source": [
    "import helper\n",
    "import numpy as np\n",
    "import problem_unittests as tests\n",
    "\n",
    "int_text, vocab_to_int, int_to_vocab, token_dict = helper.load_preprocess()"
   ]
  },
  {
   "cell_type": "markdown",
   "metadata": {},
   "source": [
    "## Build the Neural Network\n",
    "You'll build the components necessary to build a RNN by implementing the following functions below:\n",
    "- get_inputs\n",
    "- get_init_cell\n",
    "- get_embed\n",
    "- build_rnn\n",
    "- build_nn\n",
    "- get_batches\n",
    "\n",
    "### Check the Version of TensorFlow and Access to GPU"
   ]
  },
  {
   "cell_type": "code",
   "execution_count": 8,
   "metadata": {},
   "outputs": [
    {
     "name": "stdout",
     "output_type": "stream",
     "text": [
      "TensorFlow Version: 1.3.0\n",
      "Default GPU Device: /gpu:0\n"
     ]
    }
   ],
   "source": [
    "from distutils.version import LooseVersion\n",
    "import warnings\n",
    "import tensorflow as tf\n",
    "\n",
    "# Check TensorFlow Version\n",
    "assert LooseVersion(tf.__version__) >= LooseVersion('1.3'), 'Please use TensorFlow version 1.3 or newer'\n",
    "print('TensorFlow Version: {}'.format(tf.__version__))\n",
    "\n",
    "# Check for a GPU\n",
    "if not tf.test.gpu_device_name():\n",
    "    warnings.warn('No GPU found. Please use a GPU to train your neural network.')\n",
    "else:\n",
    "    print('Default GPU Device: {}'.format(tf.test.gpu_device_name()))"
   ]
  },
  {
   "cell_type": "markdown",
   "metadata": {},
   "source": [
    "### Input\n",
    "Implement the `get_inputs()` function to create TF Placeholders for the Neural Network.  It should create the following placeholders:\n",
    "- Input text placeholder named \"input\" using the [TF Placeholder](https://www.tensorflow.org/api_docs/python/tf/placeholder) `name` parameter.\n",
    "- Targets placeholder\n",
    "- Learning Rate placeholder\n",
    "\n",
    "Return the placeholders in the following tuple `(Input, Targets, LearningRate)`"
   ]
  },
  {
   "cell_type": "code",
   "execution_count": 9,
   "metadata": {},
   "outputs": [
    {
     "name": "stdout",
     "output_type": "stream",
     "text": [
      "Tests Passed\n"
     ]
    }
   ],
   "source": [
    "def get_inputs():\n",
    "    inputs = tf.placeholder(dtype = tf.int32, shape = (None, None), name = 'input')\n",
    "    targets = tf.placeholder(dtype = tf.int32, shape = (None, None), name = 'targets')\n",
    "    learning_rate = tf.placeholder(dtype = tf.int32, name = 'learning_rate')\n",
    "    return (inputs, targets, learning_rate)\n",
    "\n",
    "tests.test_get_inputs(get_inputs)"
   ]
  },
  {
   "cell_type": "markdown",
   "metadata": {},
   "source": [
    "### Build RNN Cell and Initialize\n",
    "Stack one or more [`BasicLSTMCells`](https://www.tensorflow.org/api_docs/python/tf/contrib/rnn/BasicLSTMCell) in a [`MultiRNNCell`](https://www.tensorflow.org/api_docs/python/tf/contrib/rnn/MultiRNNCell).\n",
    "- The Rnn size should be set using `rnn_size`\n",
    "- Initalize Cell State using the MultiRNNCell's [`zero_state()`](https://www.tensorflow.org/api_docs/python/tf/contrib/rnn/MultiRNNCell#zero_state) function\n",
    "    - Apply the name \"initial_state\" to the initial state using [`tf.identity()`](https://www.tensorflow.org/api_docs/python/tf/identity)\n",
    "\n",
    "Return the cell and initial state in the following tuple `(Cell, InitialState)`"
   ]
  },
  {
   "cell_type": "code",
   "execution_count": 10,
   "metadata": {},
   "outputs": [
    {
     "name": "stdout",
     "output_type": "stream",
     "text": [
      "Tests Passed\n"
     ]
    }
   ],
   "source": [
    "def get_init_cell(batch_size, rnn_size):\n",
    "    lstm = tf.contrib.rnn.BasicLSTMCell(rnn_size)\n",
    "    lstm_layers = 2\n",
    "    cell = tf.contrib.rnn.MultiRNNCell([lstm]*lstm_layers)\n",
    "    initial_state = cell.zero_state(batch_size, tf.float32)\n",
    "    initial_state = tf.identity(initial_state, 'initial_state')\n",
    "    return cell, initial_state\n",
    "\n",
    "tests.test_get_init_cell(get_init_cell)"
   ]
  },
  {
   "cell_type": "markdown",
   "metadata": {},
   "source": [
    "### Word Embedding\n",
    "Apply embedding to `input_data` using TensorFlow.  Return the embedded sequence."
   ]
  },
  {
   "cell_type": "code",
   "execution_count": 11,
   "metadata": {},
   "outputs": [
    {
     "name": "stdout",
     "output_type": "stream",
     "text": [
      "Tests Passed\n"
     ]
    }
   ],
   "source": [
    "def get_embed(input_data, vocab_size, embed_dim):\n",
    "    initial_state = tf.random_uniform((vocab_size, embed_dim), -1, 1)\n",
    "    embedding = tf.Variable(initial_state)\n",
    "    embed = tf.nn.embedding_lookup(embedding, input_data)\n",
    "    return embed\n",
    "\n",
    "tests.test_get_embed(get_embed)"
   ]
  },
  {
   "cell_type": "markdown",
   "metadata": {},
   "source": [
    "### Build RNN\n",
    "You created a RNN Cell in the `get_init_cell()` function.  Time to use the cell to create a RNN.\n",
    "- Build the RNN using the [`tf.nn.dynamic_rnn()`](https://www.tensorflow.org/api_docs/python/tf/nn/dynamic_rnn)\n",
    " - Apply the name \"final_state\" to the final state using [`tf.identity()`](https://www.tensorflow.org/api_docs/python/tf/identity)\n",
    "\n",
    "Return the outputs and final_state state in the following tuple `(Outputs, FinalState)` "
   ]
  },
  {
   "cell_type": "code",
   "execution_count": 12,
   "metadata": {},
   "outputs": [
    {
     "name": "stdout",
     "output_type": "stream",
     "text": [
      "Tests Passed\n"
     ]
    }
   ],
   "source": [
    "def build_rnn(cell, inputs):\n",
    "    outputs, final_state = tf.nn.dynamic_rnn(cell, inputs, dtype=tf.float32)\n",
    "    final_state = tf.identity(final_state, name= 'final_state')\n",
    "    return outputs, final_state\n",
    "\n",
    "tests.test_build_rnn(build_rnn)"
   ]
  },
  {
   "cell_type": "markdown",
   "metadata": {},
   "source": [
    "### Build the Neural Network\n",
    "Apply the functions you implemented above to:\n",
    "- Apply embedding to `input_data` using your `get_embed(input_data, vocab_size, embed_dim)` function.\n",
    "- Build RNN using `cell` and your `build_rnn(cell, inputs)` function.\n",
    "- Apply a fully connected layer with a linear activation and `vocab_size` as the number of outputs.\n",
    "\n",
    "Return the logits and final state in the following tuple (Logits, FinalState) "
   ]
  },
  {
   "cell_type": "code",
   "execution_count": 13,
   "metadata": {},
   "outputs": [
    {
     "name": "stdout",
     "output_type": "stream",
     "text": [
      "Tests Passed\n"
     ]
    }
   ],
   "source": [
    "def build_nn(cell, rnn_size, input_data, vocab_size, embed_dim):\n",
    "    inputs = get_embed(input_data, vocab_size, rnn_size)\n",
    "    outputs, final_state = build_rnn(cell, inputs)\n",
    "    logits = tf.contrib.layers.fully_connected(outputs, vocab_size, activation_fn=None)\n",
    "    return (logits, final_state)\n",
    "\n",
    "tests.test_build_nn(build_nn)"
   ]
  },
  {
   "cell_type": "markdown",
   "metadata": {},
   "source": [
    "### Batches\n",
    "Implement `get_batches` to create batches of input and targets using `int_text`.  The batches should be a Numpy array with the shape `(number of batches, 2, batch size, sequence length)`. Each batch contains two elements:\n",
    "- The first element is a single batch of **input** with the shape `[batch size, sequence length]`\n",
    "- The second element is a single batch of **targets** with the shape `[batch size, sequence length]`\n",
    "\n",
    "If you can't fill the last batch with enough data, drop the last batch.\n",
    "\n",
    "For example, `get_batches([1, 2, 3, 4, 5, 6, 7, 8, 9, 10, 11, 12, 13, 14, 15, 16, 17, 18, 19, 20], 3, 2)` would return a Numpy array of the following:\n",
    "```\n",
    "[\n",
    "  # First Batch\n",
    "  [\n",
    "    # Batch of Input\n",
    "    [[ 1  2], [ 7  8], [13 14]]\n",
    "    # Batch of targets\n",
    "    [[ 2  3], [ 8  9], [14 15]]\n",
    "  ]\n",
    "\n",
    "  # Second Batch\n",
    "  [\n",
    "    # Batch of Input\n",
    "    [[ 3  4], [ 9 10], [15 16]]\n",
    "    # Batch of targets\n",
    "    [[ 4  5], [10 11], [16 17]]\n",
    "  ]\n",
    "\n",
    "  # Third Batch\n",
    "  [\n",
    "    # Batch of Input\n",
    "    [[ 5  6], [11 12], [17 18]]\n",
    "    # Batch of targets\n",
    "    [[ 6  7], [12 13], [18  1]]\n",
    "  ]\n",
    "]\n",
    "```\n",
    "\n",
    "Notice that the last target value in the last batch is the first input value of the first batch. In this case, `1`. This is a common technique used when creating sequence batches, although it is rather unintuitive."
   ]
  },
  {
   "cell_type": "code",
   "execution_count": 14,
   "metadata": {},
   "outputs": [
    {
     "name": "stdout",
     "output_type": "stream",
     "text": [
      "Tests Passed\n"
     ]
    }
   ],
   "source": [
    "def get_batches(int_text, batch_size, seq_length):\n",
    "    characters_per_batch = batch_size * seq_length #640\n",
    "    num_batches = len(int_text)//(characters_per_batch) #7 \n",
    "    input_data = np.array(int_text[ : (num_batches * characters_per_batch)])\n",
    "    target_data = np.array(int_text[1 : (num_batches * characters_per_batch)] + [int_text[0]])\n",
    "    inputs = input_data.reshape(batch_size, -1)\n",
    "    targets = target_data.reshape(batch_size, -1)\n",
    "    inputs = np.split(inputs, num_batches, 1) #num_batches is 7\n",
    "    targets = np.split(targets, num_batches, 1)    \n",
    "    batches = np.array(list(zip(inputs, targets)))\n",
    "    batches = batches.reshape(num_batches, 2, batch_size, seq_length)\n",
    "    return batches\n",
    "\n",
    "tests.test_get_batches(get_batches)"
   ]
  },
  {
   "cell_type": "markdown",
   "metadata": {},
   "source": [
    "## Neural Network Training\n",
    "### Hyperparameters\n",
    "Tune the following parameters:\n",
    "\n",
    "- Set `num_epochs` to the number of epochs.\n",
    "- Set `batch_size` to the batch size.\n",
    "- Set `rnn_size` to the size of the RNNs.\n",
    "- Set `embed_dim` to the size of the embedding.\n",
    "- Set `seq_length` to the length of sequence.\n",
    "- Set `learning_rate` to the learning rate.\n",
    "- Set `show_every_n_batches` to the number of batches the neural network should print progress."
   ]
  },
  {
   "cell_type": "code",
   "execution_count": 16,
   "metadata": {},
   "outputs": [],
   "source": [
    "# Number of Epochs\n",
    "num_epochs = 200\n",
    "# Batch Size\n",
    "batch_size = 200\n",
    "# RNN Size\n",
    "rnn_size = 500\n",
    "# Sequence Length\n",
    "seq_length = 20\n",
    "# Learning Rate\n",
    "learning_rate = 0.1\n",
    "# Show stats for every n number of batches\n",
    "show_every_n_batches = 20\n",
    "\n",
    "save_dir = './save'"
   ]
  },
  {
   "cell_type": "markdown",
   "metadata": {},
   "source": [
    "### Build the Graph\n",
    "Build the graph using the neural network you implemented."
   ]
  },
  {
   "cell_type": "code",
   "execution_count": 17,
   "metadata": {},
   "outputs": [],
   "source": [
    "from tensorflow.contrib import seq2seq\n",
    "\n",
    "train_graph = tf.Graph()\n",
    "with train_graph.as_default():\n",
    "    vocab_size = len(int_to_vocab)\n",
    "    input_text, targets, lr = get_inputs()\n",
    "    input_data_shape = tf.shape(input_text)\n",
    "    cell, initial_state = get_init_cell(input_data_shape[0], rnn_size)\n",
    "    logits, final_state = build_nn(cell, rnn_size, input_text, vocab_size, 100)\n",
    "\n",
    "    # Probabilities for generating words\n",
    "    probs = tf.nn.softmax(logits, name='probs')\n",
    "\n",
    "    # Loss function\n",
    "    cost = seq2seq.sequence_loss(logits,targets,tf.ones([input_data_shape[0], input_data_shape[1]]))\n",
    "\n",
    "    # Optimizer\n",
    "    optimizer = tf.train.AdamOptimizer()\n",
    "\n",
    "    # Gradient Clipping\n",
    "    gradients = optimizer.compute_gradients(cost)\n",
    "    capped_gradients = [(tf.clip_by_value(grad, -1., 1.), var) for grad, var in gradients if grad is not None]\n",
    "    train_op = optimizer.apply_gradients(capped_gradients)"
   ]
  },
  {
   "cell_type": "markdown",
   "metadata": {},
   "source": [
    "## Train\n",
    "Train the neural network on the preprocessed data.  If you have a hard time getting a good loss, check the [forums](https://discussions.udacity.com/) to see if anyone is having the same problem."
   ]
  },
  {
   "cell_type": "code",
   "execution_count": 18,
   "metadata": {
    "scrolled": false
   },
   "outputs": [
    {
     "name": "stdout",
     "output_type": "stream",
     "text": [
      "Epoch   0 Batch    0/17   train_loss = 8.822\n",
      "Epoch   1 Batch    3/17   train_loss = 6.395\n",
      "Epoch   2 Batch    6/17   train_loss = 6.043\n",
      "Epoch   3 Batch    9/17   train_loss = 6.027\n",
      "Epoch   4 Batch   12/17   train_loss = 5.871\n",
      "Epoch   5 Batch   15/17   train_loss = 5.900\n",
      "Epoch   7 Batch    1/17   train_loss = 5.685\n",
      "Epoch   8 Batch    4/17   train_loss = 5.605\n",
      "Epoch   9 Batch    7/17   train_loss = 5.496\n",
      "Epoch  10 Batch   10/17   train_loss = 5.411\n",
      "Epoch  11 Batch   13/17   train_loss = 5.367\n",
      "Epoch  12 Batch   16/17   train_loss = 5.255\n",
      "Epoch  14 Batch    2/17   train_loss = 5.080\n",
      "Epoch  15 Batch    5/17   train_loss = 4.984\n",
      "Epoch  16 Batch    8/17   train_loss = 4.757\n",
      "Epoch  17 Batch   11/17   train_loss = 4.805\n",
      "Epoch  18 Batch   14/17   train_loss = 4.631\n",
      "Epoch  20 Batch    0/17   train_loss = 4.604\n",
      "Epoch  21 Batch    3/17   train_loss = 4.576\n",
      "Epoch  22 Batch    6/17   train_loss = 4.400\n",
      "Epoch  23 Batch    9/17   train_loss = 4.398\n",
      "Epoch  24 Batch   12/17   train_loss = 4.259\n",
      "Epoch  25 Batch   15/17   train_loss = 4.336\n",
      "Epoch  27 Batch    1/17   train_loss = 4.186\n",
      "Epoch  28 Batch    4/17   train_loss = 4.136\n",
      "Epoch  29 Batch    7/17   train_loss = 4.073\n",
      "Epoch  30 Batch   10/17   train_loss = 4.035\n",
      "Epoch  31 Batch   13/17   train_loss = 4.009\n",
      "Epoch  32 Batch   16/17   train_loss = 4.013\n",
      "Epoch  34 Batch    2/17   train_loss = 3.930\n",
      "Epoch  35 Batch    5/17   train_loss = 3.855\n",
      "Epoch  36 Batch    8/17   train_loss = 3.740\n",
      "Epoch  37 Batch   11/17   train_loss = 3.764\n",
      "Epoch  38 Batch   14/17   train_loss = 3.612\n",
      "Epoch  40 Batch    0/17   train_loss = 3.574\n",
      "Epoch  41 Batch    3/17   train_loss = 3.587\n",
      "Epoch  42 Batch    6/17   train_loss = 3.470\n",
      "Epoch  43 Batch    9/17   train_loss = 3.547\n",
      "Epoch  44 Batch   12/17   train_loss = 3.479\n",
      "Epoch  45 Batch   15/17   train_loss = 3.425\n",
      "Epoch  47 Batch    1/17   train_loss = 3.259\n",
      "Epoch  48 Batch    4/17   train_loss = 3.241\n",
      "Epoch  49 Batch    7/17   train_loss = 3.197\n",
      "Epoch  50 Batch   10/17   train_loss = 3.182\n",
      "Epoch  51 Batch   13/17   train_loss = 3.128\n",
      "Epoch  52 Batch   16/17   train_loss = 3.072\n",
      "Epoch  54 Batch    2/17   train_loss = 3.041\n",
      "Epoch  55 Batch    5/17   train_loss = 2.983\n",
      "Epoch  56 Batch    8/17   train_loss = 2.928\n",
      "Epoch  57 Batch   11/17   train_loss = 2.893\n",
      "Epoch  58 Batch   14/17   train_loss = 2.796\n",
      "Epoch  60 Batch    0/17   train_loss = 2.790\n",
      "Epoch  61 Batch    3/17   train_loss = 2.730\n",
      "Epoch  62 Batch    6/17   train_loss = 2.632\n",
      "Epoch  63 Batch    9/17   train_loss = 2.605\n",
      "Epoch  64 Batch   12/17   train_loss = 2.546\n",
      "Epoch  65 Batch   15/17   train_loss = 2.624\n",
      "Epoch  67 Batch    1/17   train_loss = 2.510\n",
      "Epoch  68 Batch    4/17   train_loss = 2.465\n",
      "Epoch  69 Batch    7/17   train_loss = 2.408\n",
      "Epoch  70 Batch   10/17   train_loss = 2.380\n",
      "Epoch  71 Batch   13/17   train_loss = 2.329\n",
      "Epoch  72 Batch   16/17   train_loss = 2.218\n",
      "Epoch  74 Batch    2/17   train_loss = 2.201\n",
      "Epoch  75 Batch    5/17   train_loss = 2.162\n",
      "Epoch  76 Batch    8/17   train_loss = 2.165\n",
      "Epoch  77 Batch   11/17   train_loss = 2.066\n",
      "Epoch  78 Batch   14/17   train_loss = 1.932\n",
      "Epoch  80 Batch    0/17   train_loss = 1.921\n",
      "Epoch  81 Batch    3/17   train_loss = 1.917\n",
      "Epoch  82 Batch    6/17   train_loss = 1.893\n",
      "Epoch  83 Batch    9/17   train_loss = 1.869\n",
      "Epoch  84 Batch   12/17   train_loss = 1.831\n",
      "Epoch  85 Batch   15/17   train_loss = 1.830\n",
      "Epoch  87 Batch    1/17   train_loss = 1.702\n",
      "Epoch  88 Batch    4/17   train_loss = 1.702\n",
      "Epoch  89 Batch    7/17   train_loss = 1.676\n",
      "Epoch  90 Batch   10/17   train_loss = 1.650\n",
      "Epoch  91 Batch   13/17   train_loss = 1.647\n",
      "Epoch  92 Batch   16/17   train_loss = 1.559\n",
      "Epoch  94 Batch    2/17   train_loss = 1.566\n",
      "Epoch  95 Batch    5/17   train_loss = 1.516\n",
      "Epoch  96 Batch    8/17   train_loss = 1.497\n",
      "Epoch  97 Batch   11/17   train_loss = 1.418\n",
      "Epoch  98 Batch   14/17   train_loss = 1.349\n",
      "Epoch 100 Batch    0/17   train_loss = 1.365\n",
      "Epoch 101 Batch    3/17   train_loss = 1.356\n",
      "Epoch 102 Batch    6/17   train_loss = 1.301\n",
      "Epoch 103 Batch    9/17   train_loss = 1.229\n",
      "Epoch 104 Batch   12/17   train_loss = 1.168\n",
      "Epoch 105 Batch   15/17   train_loss = 1.168\n",
      "Epoch 107 Batch    1/17   train_loss = 1.109\n",
      "Epoch 108 Batch    4/17   train_loss = 1.142\n",
      "Epoch 109 Batch    7/17   train_loss = 1.111\n",
      "Epoch 110 Batch   10/17   train_loss = 1.133\n",
      "Epoch 111 Batch   13/17   train_loss = 1.123\n",
      "Epoch 112 Batch   16/17   train_loss = 1.049\n",
      "Epoch 114 Batch    2/17   train_loss = 1.086\n",
      "Epoch 115 Batch    5/17   train_loss = 1.110\n",
      "Epoch 116 Batch    8/17   train_loss = 1.094\n",
      "Epoch 117 Batch   11/17   train_loss = 0.997\n",
      "Epoch 118 Batch   14/17   train_loss = 0.908\n",
      "Epoch 120 Batch    0/17   train_loss = 0.838\n",
      "Epoch 121 Batch    3/17   train_loss = 0.834\n",
      "Epoch 122 Batch    6/17   train_loss = 0.780\n",
      "Epoch 123 Batch    9/17   train_loss = 0.739\n",
      "Epoch 124 Batch   12/17   train_loss = 0.726\n",
      "Epoch 125 Batch   15/17   train_loss = 0.753\n",
      "Epoch 127 Batch    1/17   train_loss = 0.717\n",
      "Epoch 128 Batch    4/17   train_loss = 0.727\n",
      "Epoch 129 Batch    7/17   train_loss = 0.703\n",
      "Epoch 130 Batch   10/17   train_loss = 0.703\n",
      "Epoch 131 Batch   13/17   train_loss = 0.700\n",
      "Epoch 132 Batch   16/17   train_loss = 0.622\n",
      "Epoch 134 Batch    2/17   train_loss = 0.651\n",
      "Epoch 135 Batch    5/17   train_loss = 0.645\n",
      "Epoch 136 Batch    8/17   train_loss = 0.656\n",
      "Epoch 137 Batch   11/17   train_loss = 0.640\n",
      "Epoch 138 Batch   14/17   train_loss = 0.640\n",
      "Epoch 140 Batch    0/17   train_loss = 0.598\n",
      "Epoch 141 Batch    3/17   train_loss = 0.622\n",
      "Epoch 142 Batch    6/17   train_loss = 0.591\n",
      "Epoch 143 Batch    9/17   train_loss = 0.551\n",
      "Epoch 144 Batch   12/17   train_loss = 0.529\n",
      "Epoch 145 Batch   15/17   train_loss = 0.525\n",
      "Epoch 147 Batch    1/17   train_loss = 0.451\n",
      "Epoch 148 Batch    4/17   train_loss = 0.464\n",
      "Epoch 149 Batch    7/17   train_loss = 0.471\n",
      "Epoch 150 Batch   10/17   train_loss = 0.428\n",
      "Epoch 151 Batch   13/17   train_loss = 0.423\n",
      "Epoch 152 Batch   16/17   train_loss = 0.409\n",
      "Epoch 154 Batch    2/17   train_loss = 0.464\n",
      "Epoch 155 Batch    5/17   train_loss = 0.447\n",
      "Epoch 156 Batch    8/17   train_loss = 0.431\n",
      "Epoch 157 Batch   11/17   train_loss = 0.433\n",
      "Epoch 158 Batch   14/17   train_loss = 0.459\n",
      "Epoch 160 Batch    0/17   train_loss = 0.396\n",
      "Epoch 161 Batch    3/17   train_loss = 0.381\n",
      "Epoch 162 Batch    6/17   train_loss = 0.332\n",
      "Epoch 163 Batch    9/17   train_loss = 0.333\n",
      "Epoch 164 Batch   12/17   train_loss = 0.345\n",
      "Epoch 165 Batch   15/17   train_loss = 0.332\n",
      "Epoch 167 Batch    1/17   train_loss = 0.280\n",
      "Epoch 168 Batch    4/17   train_loss = 0.304\n",
      "Epoch 169 Batch    7/17   train_loss = 0.366\n",
      "Epoch 170 Batch   10/17   train_loss = 0.376\n",
      "Epoch 171 Batch   13/17   train_loss = 0.365\n",
      "Epoch 172 Batch   16/17   train_loss = 0.330\n",
      "Epoch 174 Batch    2/17   train_loss = 0.383\n",
      "Epoch 175 Batch    5/17   train_loss = 0.376\n",
      "Epoch 176 Batch    8/17   train_loss = 0.353\n",
      "Epoch 177 Batch   11/17   train_loss = 0.337\n",
      "Epoch 178 Batch   14/17   train_loss = 0.322\n",
      "Epoch 180 Batch    0/17   train_loss = 0.273\n",
      "Epoch 181 Batch    3/17   train_loss = 0.303\n",
      "Epoch 182 Batch    6/17   train_loss = 0.287\n",
      "Epoch 183 Batch    9/17   train_loss = 0.275\n",
      "Epoch 184 Batch   12/17   train_loss = 0.270\n",
      "Epoch 185 Batch   15/17   train_loss = 0.281\n",
      "Epoch 187 Batch    1/17   train_loss = 0.232\n",
      "Epoch 188 Batch    4/17   train_loss = 0.214\n",
      "Epoch 189 Batch    7/17   train_loss = 0.234\n",
      "Epoch 190 Batch   10/17   train_loss = 0.224\n",
      "Epoch 191 Batch   13/17   train_loss = 0.232\n",
      "Epoch 192 Batch   16/17   train_loss = 0.193\n",
      "Epoch 194 Batch    2/17   train_loss = 0.217\n",
      "Epoch 195 Batch    5/17   train_loss = 0.218\n",
      "Epoch 196 Batch    8/17   train_loss = 0.207\n",
      "Epoch 197 Batch   11/17   train_loss = 0.189\n",
      "Epoch 198 Batch   14/17   train_loss = 0.196\n",
      "Model Trained and Saved\n"
     ]
    }
   ],
   "source": [
    "batches = get_batches(int_text, batch_size, seq_length)\n",
    "\n",
    "with tf.Session(graph=train_graph) as sess:\n",
    "    sess.run(tf.global_variables_initializer())\n",
    "\n",
    "    for epoch_i in range(num_epochs):\n",
    "        state = sess.run(initial_state, {input_text: batches[0][0]})\n",
    "\n",
    "        for batch_i, (x, y) in enumerate(batches):\n",
    "            feed = {\n",
    "                input_text: x,\n",
    "                targets: y,\n",
    "                initial_state: state,\n",
    "                lr: learning_rate}\n",
    "            train_loss, state, _ = sess.run([cost, final_state, train_op], feed)\n",
    "\n",
    "            # Show every <show_every_n_batches> batches\n",
    "            if (epoch_i * len(batches) + batch_i) % show_every_n_batches == 0:\n",
    "                print('Epoch {:>3} Batch {:>4}/{}   train_loss = {:.3f}'.format(\n",
    "                    epoch_i,\n",
    "                    batch_i,\n",
    "                    len(batches),\n",
    "                    train_loss))\n",
    "\n",
    "    # Save Model\n",
    "    saver = tf.train.Saver()\n",
    "    saver.save(sess, save_dir)\n",
    "    print('Model Trained and Saved')"
   ]
  },
  {
   "cell_type": "markdown",
   "metadata": {},
   "source": [
    "## Save Parameters\n",
    "Save `seq_length` and `save_dir` for generating a new TV script."
   ]
  },
  {
   "cell_type": "code",
   "execution_count": 19,
   "metadata": {},
   "outputs": [],
   "source": [
    "# Save parameters for checkpoint\n",
    "helper.save_params((seq_length, save_dir))"
   ]
  },
  {
   "cell_type": "markdown",
   "metadata": {},
   "source": [
    "# Checkpoint"
   ]
  },
  {
   "cell_type": "code",
   "execution_count": 20,
   "metadata": {},
   "outputs": [],
   "source": [
    "import tensorflow as tf\n",
    "import numpy as np\n",
    "import helper\n",
    "import problem_unittests as tests\n",
    "\n",
    "_, vocab_to_int, int_to_vocab, token_dict = helper.load_preprocess()\n",
    "seq_length, load_dir = helper.load_params()"
   ]
  },
  {
   "cell_type": "markdown",
   "metadata": {},
   "source": [
    "## Implement Generate Functions\n",
    "### Get Tensors\n",
    "Get tensors from `loaded_graph` using the function [`get_tensor_by_name()`](https://www.tensorflow.org/api_docs/python/tf/Graph#get_tensor_by_name).  Get the tensors using the following names:\n",
    "- \"input:0\"\n",
    "- \"initial_state:0\"\n",
    "- \"final_state:0\"\n",
    "- \"probs:0\"\n",
    "\n",
    "Return the tensors in the following tuple `(InputTensor, InitialStateTensor, FinalStateTensor, ProbsTensor)` "
   ]
  },
  {
   "cell_type": "code",
   "execution_count": 21,
   "metadata": {},
   "outputs": [
    {
     "name": "stdout",
     "output_type": "stream",
     "text": [
      "Tests Passed\n"
     ]
    }
   ],
   "source": [
    "def get_tensors(loaded_graph):\n",
    "    InputTensor = loaded_graph.get_tensor_by_name(\"input:0\")\n",
    "    InitialStateTensor = loaded_graph.get_tensor_by_name(\"initial_state:0\") \n",
    "    FinalStateTensor = loaded_graph.get_tensor_by_name(\"final_state:0\") \n",
    "    ProbsTensor = loaded_graph.get_tensor_by_name(\"probs:0\")\n",
    "    return (InputTensor, InitialStateTensor, FinalStateTensor, ProbsTensor)\n",
    "\n",
    "tests.test_get_tensors(get_tensors)"
   ]
  },
  {
   "cell_type": "markdown",
   "metadata": {},
   "source": [
    "### Choose Word\n",
    "Implement the `pick_word()` function to select the next word using `probabilities`."
   ]
  },
  {
   "cell_type": "code",
   "execution_count": 22,
   "metadata": {},
   "outputs": [
    {
     "name": "stdout",
     "output_type": "stream",
     "text": [
      "Tests Passed\n"
     ]
    }
   ],
   "source": [
    "import random\n",
    "\n",
    "def weighted_choice(choices):\n",
    "    total = sum(w for c, w in choices)\n",
    "    r = random.uniform(0, total)\n",
    "    upto = 0\n",
    "    for c, w in choices:\n",
    "        if upto + w >= r:\n",
    "            return c\n",
    "        upto += w\n",
    "    assert False, \"Shouldn't get here\"\n",
    "    \n",
    "def pick_from_top_5(choices):\n",
    "    top5 = []\n",
    "    for i in range(min(len(choices), 5)):\n",
    "        index = np.argmax(choices)\n",
    "        top5.append((index, choices[index]))\n",
    "        choices.itemset(index, 0) \n",
    "    return weighted_choice(top5)\n",
    "\n",
    "def pick_word(probabilities, int_to_vocab):\n",
    "    return int_to_vocab[pick_from_top_5(probabilities)]\n",
    " \n",
    "tests.test_pick_word(pick_word)"
   ]
  },
  {
   "cell_type": "markdown",
   "metadata": {},
   "source": [
    "## Generate TV Script\n",
    "This will generate the TV script for you.  Set `gen_length` to the length of TV script you want to generate."
   ]
  },
  {
   "cell_type": "code",
   "execution_count": 23,
   "metadata": {},
   "outputs": [
    {
     "name": "stdout",
     "output_type": "stream",
     "text": [
      "INFO:tensorflow:Restoring parameters from ./save\n",
      "moe_szyslak:(into phone) moe's tavern. where the elite meet to drink.\n",
      "bart_simpson: eh, yeah, moe. a good friend, would you need your romantic by that down, eh? if you wanna drink?...\n",
      "homer_simpson:(meaningful chuckle) hey, he's looking for the mouse-- ever make over all a place severe camp!\n",
      "homer_simpson: you know, how have you be. no need a little one?\n",
      "moe_szyslak: no.\n",
      "apu_nahasapeemapetilon:(perplexed arm) get out of great. i'll go miss springfield, boggs!\n",
      "barney_gumble: nah, what kind of things are so i'm gonna do that when i sound like an alcoholic.\n",
      "nigel_bakerbutcher: sure he could write up.\n",
      "moe_szyslak: hey, what's no tonight! barney, moe, a new friend.\n",
      "moe_szyslak: hey, homer! you're a crab. good name, three king on.\n",
      "\n",
      "\n",
      "moe_szyslak: ahh! i want you to do your money!\n",
      "moe_szyslak:(re: homer) you're an alcoholic.\n",
      "seymour_skinner: that helps.\n",
      "apu_nahasapeemapetilon: barney\n"
     ]
    }
   ],
   "source": [
    "gen_length = 200\n",
    "# homer_simpson, moe_szyslak, or Barney_Gumble\n",
    "prime_word = 'moe_szyslak'\n",
    "\n",
    "loaded_graph = tf.Graph()\n",
    "with tf.Session(graph=loaded_graph) as sess:\n",
    "    # Load saved model\n",
    "    loader = tf.train.import_meta_graph(load_dir + '.meta')\n",
    "    loader.restore(sess, load_dir)\n",
    "\n",
    "    # Get Tensors from loaded model\n",
    "    input_text, initial_state, final_state, probs = get_tensors(loaded_graph)\n",
    "\n",
    "    # Sentences generation setup\n",
    "    gen_sentences = [prime_word + ':']\n",
    "    prev_state = sess.run(initial_state, {input_text: np.array([[1]])})\n",
    "\n",
    "    # Generate sentences\n",
    "    for n in range(gen_length):\n",
    "        # Dynamic Input\n",
    "        dyn_input = [[vocab_to_int[word] for word in gen_sentences[-seq_length:]]]\n",
    "        dyn_seq_length = len(dyn_input[0])\n",
    "\n",
    "        # Get Prediction\n",
    "        probabilities, prev_state = sess.run(\n",
    "            [probs, final_state],\n",
    "            {input_text: dyn_input, initial_state: prev_state})\n",
    "        \n",
    "        pred_word = pick_word(probabilities[0][dyn_seq_length-1], int_to_vocab)\n",
    "\n",
    "        gen_sentences.append(pred_word)\n",
    "    \n",
    "    # Remove tokens\n",
    "    tv_script = ' '.join(gen_sentences)\n",
    "    for key, token in token_dict.items():\n",
    "        ending = ' ' if key in ['\\n', '(', '\"'] else ''\n",
    "        tv_script = tv_script.replace(' ' + token.lower(), key)\n",
    "    tv_script = tv_script.replace('\\n ', '\\n')\n",
    "    tv_script = tv_script.replace('( ', '(')\n",
    "        \n",
    "    print(tv_script)"
   ]
  },
  {
   "cell_type": "markdown",
   "metadata": {},
   "source": [
    "# The TV Script is Nonsensical\n",
    "It's ok if the TV script doesn't make any sense.  We trained on less than a megabyte of text.  In order to get good results, you'll have to use a smaller vocabulary or get more data.  Luckily there's more data!  As we mentioned in the beggining of this project, this is a subset of [another dataset](https://www.kaggle.com/wcukierski/the-simpsons-by-the-data).  We didn't have you train on all the data, because that would take too long.  However, you are free to train your neural network on all the data.  After you complete the project, of course.\n",
    "# Submitting This Project\n",
    "When submitting this project, make sure to run all the cells before saving the notebook. Save the notebook file as \"dlnd_tv_script_generation.ipynb\" and save it as a HTML file under \"File\" -> \"Download as\". Include the \"helper.py\" and \"problem_unittests.py\" files in your submission."
   ]
  }
 ],
 "metadata": {
  "kernelspec": {
   "display_name": "Python 3",
   "language": "python",
   "name": "python3"
  },
  "language_info": {
   "codemirror_mode": {
    "name": "ipython",
    "version": 3
   },
   "file_extension": ".py",
   "mimetype": "text/x-python",
   "name": "python",
   "nbconvert_exporter": "python",
   "pygments_lexer": "ipython3",
   "version": "3.6.3"
  },
  "widgets": {
   "state": {},
   "version": "1.1.2"
  }
 },
 "nbformat": 4,
 "nbformat_minor": 1
}
